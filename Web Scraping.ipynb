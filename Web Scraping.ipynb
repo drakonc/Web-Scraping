{
 "cells": [
  {
   "cell_type": "code",
   "execution_count": null,
   "id": "d9d5c809",
   "metadata": {},
   "outputs": [],
   "source": [
    "from selenium.webdriver.common.keys import Keys\n",
    "from selenium import webdriver\n",
    "import unittest\n",
    "import time\n",
    "\n",
    "chorome_driver = webdriver.Chrome(\"chromedriver.exe\")\n",
    "chorome_driver.get(\"https://www.facebook.com/\")\n",
    "\n",
    "time.sleep(2)\n",
    "\n",
    "correo = chorome_driver.find_element_by_name(\"email\")\n",
    "correo.send_keys(\"drakonc@gmail.com\")\n",
    "\n",
    "time.sleep(2)\n",
    "\n",
    "password = chorome_driver.find_element_by_name(\"pass\")\n",
    "password.send_keys(\"MariaLuisa07\")\n",
    "\n",
    "time.sleep(2)\n",
    "\n",
    "button  = chorome_driver.find_element_by_name(\"login\")\n",
    "button.click()\n",
    "# password.send_keys(Keys.ENTER)\n",
    "\n",
    "time.sleep(2)\n",
    "\n",
    "chorome_driver.execute_script(\"window.open('');\")\n",
    "\n",
    "time.sleep(2)\n",
    "\n",
    "chorome_driver.switch_to.window(chorome_driver.window_handles[1])\n",
    "\n",
    "time.sleep(2)\n",
    "\n",
    "chorome_driver.get(\"https://gmail.com/\")"
   ]
  }
 ],
 "metadata": {
  "interpreter": {
   "hash": "ad239045c3b4ab49cec48b2a49245cabb58dd5a19c06b95745c9c2dbb9db7d87"
  },
  "kernelspec": {
   "display_name": "Python 3.9.12",
   "language": "python",
   "name": "python3"
  },
  "language_info": {
   "codemirror_mode": {
    "name": "ipython",
    "version": 3
   },
   "file_extension": ".py",
   "mimetype": "text/x-python",
   "name": "python",
   "nbconvert_exporter": "python",
   "pygments_lexer": "ipython3",
   "version": "3.9.12"
  }
 },
 "nbformat": 4,
 "nbformat_minor": 5
}
